{
 "cells": [
  {
   "cell_type": "markdown",
   "metadata": {},
   "source": [
    "### <p style=\"text-align: right;\"> &#9989; Jay Scott</p>"
   ]
  },
  {
   "cell_type": "markdown",
   "metadata": {},
   "source": [
    "# Homework Assignment #1 (Individual)\n",
    "## Git practice, debugging practice, unfamiliar data, and new Python packages"
   ]
  },
  {
   "cell_type": "markdown",
   "metadata": {},
   "source": [
    "<img src=\"https://www.noao.edu/image_gallery/images/d3/02677.jpg\" width=300px align=\"right\" style=\"margin-left: 20px\" alt=\"Image credit: www.noao.edu\">\n",
    "\n",
    "### Goals for this homework assignment\n",
    "By the end of this assignment, you should be able to:\n",
    "* Use Git to create a repository, track changes to the files within the repository, and push those changes to a remote repository.\n",
    "* Debug some Python code.\n",
    "* Work with an unfamiliar data format and successfully load it into your notebook.\n",
    "* Visualize FITS image files using Python.\n",
    "* Read documentation and example code to use a new Python package\n",
    "* Do a bit a bit of simple image manipulation using Python functions.\n",
    "\n",
    "Work through the following assignment, making sure to follow all of the directions and answer all of the questions.\n",
    "\n",
    "There are **72 points** possible on this assignment. Point values for each part are included in the section headers and question prompts.\n",
    "\n",
    "**This assignment is due roughly two weeks from now at 11:59 pm on Friday, February 12.** It should be uploaded into the \"Homework Assignments\" submission folder for Homework #1.  Submission instructions can be found at the end of the notebook."
   ]
  },
  {
   "cell_type": "markdown",
   "metadata": {},
   "source": [
    "---\n",
    "## Part 1: Setting up a git repository to track your progress on your assignment (6 points)\n",
    "\n",
    "For this assignment, you're going to create new **private** GitHub repository that you can used to track your progress on this homework assignment and future assignments. Again, this should be a **private** repository so that your solutions are not publicly accessible.\n",
    "\n",
    "**&#9989; Do the following**:\n",
    "\n",
    "1. On [GitHub](https://github.com) make sure you are logged into your account and then create a new GitHub repository called `cmse202-s21-turnin`.\n",
    "2. Once you've initialized the repository on GitHub, **clone a copy of it onto JupyterHub or your computer**.\n",
    "3. Inside the `cmse202-s21-turnin` repository, create a new folder called `hw-01`.\n",
    "4. Move this notebook into that **new directory** in your repository then **add it and commit it to your repository**. **Important**: you'll want to make sure you **save and close** the notebook before you do this step and then re-open it once you've added it to your repository.\n",
    "5. Finally, to test that everything is working, `git push` the notebook file so that it shows up in your **private** GitHub repository on the web.\n",
    "\n",
    "**Important**: Make sure you've added your Professor and your TA as collaborators to your new \"turnin\" respository with \"Read\" access so that they can see your assignment. **You should check the Slack channel for your section of the course to get this information.**\n",
    "\n",
    "**Double-check the following**: Make sure that the version of this notebook that you are working on is the same one that you just added to your repository! If you are working on a different copy of the noteobok, **none of your changes will be tracked**.\n",
    "\n",
    "If everything went as intended, the file should now show up on your GitHub account in the \"`cmse202-s21-turnin`\" repository inside the `hw-01` directory that you just created.  Periodically, **you'll be asked to commit your changes to the repository and push them to the remote GitHub location**. Of course, you can always commit your changes more often than that, if you wish.  It can be good to get into a habit of committing your changes any time you make a significant modification, or when you stop working on the project for a bit."
   ]
  },
  {
   "cell_type": "markdown",
   "metadata": {},
   "source": [
    "---\n",
    "\n",
    "## Part 2: Bit of code debugging: reading Python and understanding error messages (6 points)\n",
    "\n",
    "As a bit of Python practice, review the following code, read the error outputs and **fix the code*. When you fix the code **add a comment to explain what was wrong with the original code**."
   ]
  },
  {
   "cell_type": "markdown",
   "metadata": {},
   "source": [
    "### Fixing errors\n",
    "\n",
    "**Question 1 [6 points]**: Resolve the errors in the following pieces of code and add a comment that explains what was wrong in the first place."
   ]
  },
  {
   "cell_type": "code",
   "execution_count": 17,
   "metadata": {
    "scrolled": true
   },
   "outputs": [
    {
     "name": "stdout",
     "output_type": "stream",
     "text": [
      "The value of i is 0\n",
      "The value of i is 1\n",
      "The value of i is 2\n",
      "The value of i is 3\n",
      "The value of i is 4\n",
      "The value of i is 5\n",
      "The value of i is 6\n",
      "The value of i is 7\n",
      "The value of i is 8\n",
      "The value of i is 9\n"
     ]
    }
   ],
   "source": [
    "for i in range(10): #didn't add : at the end of for loop\n",
    "    print(\"The value of i is %i\" %i)"
   ]
  },
  {
   "cell_type": "code",
   "execution_count": 18,
   "metadata": {},
   "outputs": [
    {
     "name": "stdout",
     "output_type": "stream",
     "text": [
      "The value of the fraction is 5.000000\n"
     ]
    }
   ],
   "source": [
    "def compute_fraction(numerator, denominator):\n",
    "    fraction = numerator/denominator\n",
    "    print(\"The value of the fraction is %f\" %fraction)\n",
    "    \n",
    "compute_fraction(5, 1) #couldn't divide by 0 "
   ]
  },
  {
   "cell_type": "code",
   "execution_count": 19,
   "metadata": {},
   "outputs": [
    {
     "name": "stdout",
     "output_type": "stream",
     "text": [
      "The value of the fraction is 0.040000\n"
     ]
    }
   ],
   "source": [
    "def compute_fraction(numerator, denominator):\n",
    "    fraction = numerator/denominator\n",
    "    print(\"The value of the fraction is %f\" %fraction)\n",
    "    \n",
    "compute_fraction(1, 25) #input required integer not string"
   ]
  },
  {
   "cell_type": "code",
   "execution_count": 20,
   "metadata": {},
   "outputs": [
    {
     "name": "stdout",
     "output_type": "stream",
     "text": [
      "The value of the 10th element is 9\n"
     ]
    }
   ],
   "source": [
    "import numpy as np\n",
    "\n",
    "n = np.arange(20)\n",
    "print(\"The value of the 10th element is %d\" %n[9]) #parentheses should be replaced with brackets to index in array"
   ]
  },
  {
   "cell_type": "code",
   "execution_count": 21,
   "metadata": {},
   "outputs": [
    {
     "name": "stdout",
     "output_type": "stream",
     "text": [
      "1\n",
      "3\n",
      "5\n",
      "7\n",
      "9\n",
      "2\n",
      "4\n",
      "6\n",
      "8\n",
      "10\n"
     ]
    }
   ],
   "source": [
    "odd = [1, 3, 5, 7, 9]\n",
    "even = [2, 4, 6, 8, 10]\n",
    "\n",
    "for i in odd:\n",
    "    print(i)\n",
    "    \n",
    "for j in even: #list was spelled wrong\n",
    "    print(j)"
   ]
  },
  {
   "cell_type": "code",
   "execution_count": 22,
   "metadata": {},
   "outputs": [
    {
     "name": "stdout",
     "output_type": "stream",
     "text": [
      "hola\n",
      "uno dos tres\n",
      "naranja\n"
     ]
    }
   ],
   "source": [
    "spanish = dict()\n",
    "spanish['hello'] = 'hola'\n",
    "spanish['yes'] = 'si'\n",
    "spanish['one'] = 'uno'\n",
    "spanish['two'] = 'dos'\n",
    "spanish['three'] = 'tres'\n",
    "spanish['red'] = 'rojo'\n",
    "spanish['black'] = 'negro'\n",
    "spanish['green'] = 'verde'\n",
    "spanish['blue'] = 'azul'\n",
    "spanish['orange'] = 'naranja'\n",
    "\n",
    "print(spanish[\"hello\"])\n",
    "print(spanish[\"one\"], spanish[\"two\"], spanish[\"three\"])\n",
    "print(spanish[\"orange\"]) #key was not defined "
   ]
  },
  {
   "cell_type": "markdown",
   "metadata": {},
   "source": [
    "---\n",
    "### &#128721; STOP\n",
    "**Pause to commit your changes to your Git repository!**\n",
    "\n",
    "Take a moment to save your notebook, commit the changes to your Git repository using the commit message \"Committing Part 2\", and push the changes to GitHub.\n",
    "\n",
    "---"
   ]
  },
  {
   "cell_type": "markdown",
   "metadata": {},
   "source": [
    "## Part 3: Working with unfamiliar data and a new Python library to create an astronomical image (60 points)\n",
    "\n",
    "Since we're been practicing download data and repositories from the internet and learning to use new Python packages, you're going to practice doing exactly that in this assignment! This will require using the command line a bit (or running command-line commands from inside your notebook), reading documentation, and looking at code examples you're not familiar with. These are all authentic parts of being an independent computational professional."
   ]
  },
  {
   "cell_type": "markdown",
   "metadata": {},
   "source": [
    "---\n",
    "### 3.1: Download the data! (4 points)\n",
    "\n",
    "For this part of the assignment you're going to need to download a couple data files from the internet. They are relatively small files, so it shouldn't take too long. If you run into issues accessing the files and it seems to be unrelated to the commands you're using, contact your instructor, TA, or LA. Remember, in order to work with the data in this notebook, you'll need to make sure the data is in the same place as the notebook or you'll need to put the full path to the file in your data reading commands.\n",
    "\n",
    "**DO NOT** commit the data files to your repository! Since you can always download the file again if you're on another machine, it's not necessary to add the file to the repository. In addition, you should be cautious about committing data files to Git repositories because adding large files to a repository means that those large files will have to be downloaded every time you want to clone a new version of the repository, which can be very time-consuming. You should not try to version control large datasets! (Yes, these datasets are fairly small, so you could get away with adding them for this case, but as a rule of thumb, **you should think carefully before you commit data to a repository!**)\n",
    "\n",
    "The files you need are located here:\n",
    "\n",
    "`https://raw.githubusercontent.com/msu-cmse-courses/cmse202-S21-student/master/data/m42_40min_ir.fits`\n",
    "\n",
    "`https://raw.githubusercontent.com/msu-cmse-courses/cmse202-S21-student/master/data/m42_40min_red.fits`\n",
    "\n",
    "**&#9989; Question 2 [4 points]:** In the cell below, include the command line commands that you used to download the files (you can either run the command on the command line or inside the jupyter notebook using the correct leading character). If you're not sure how to download them using the command line, download them however you need to in order to get them on to your computer and move on to the later parts of the assignment."
   ]
  },
  {
   "cell_type": "code",
   "execution_count": 23,
   "metadata": {},
   "outputs": [],
   "source": [
    "# Put your downloads command here\n",
    " #!wget https://raw.githubusercontent.com/msu-cmse-courses/cmse202-S21-student/master/data/m42_40min_ir.fits \n",
    " #!wget https://raw.githubusercontent.com/msu-cmse-courses/cmse202-S21-student/master/data/m42_40min_red.fits"
   ]
  },
  {
   "cell_type": "markdown",
   "metadata": {},
   "source": [
    "---\n",
    "### 3.2: Loading/Reading unfamiliar astronomical data in Python (14 points)\n",
    "\n",
    "You might notice that the files you downloaded have the extension \".fits\". This is likely a file extension that you are not familiar with and it actually indicates that it is an \"FITS\" file (clever, right?). What does this mean? Do a quick internet search to figure out what type of file this is and what it is commonly used for.\n",
    "\n",
    "**&#9989; Question 3 [2 points]:** Record your findings below. Explain what a FITS file is and what sort of information it commonly is used to store."
   ]
  },
  {
   "cell_type": "markdown",
   "metadata": {},
   "source": [
    "<font size=+3>&#9998;</font> 'Flexible Image Transport System', stores digital file formats as multi-dimensional arrays"
   ]
  },
  {
   "cell_type": "markdown",
   "metadata": {},
   "source": [
    "Although you might not have a background in which you've ever worked with FITS files before, you should have all of the skills necessary to interact with this data in Python. Of course, we haven't actually used FITS for anything we've done in class. So, your first task is to figure out how to open and read the file using Python.\n",
    "\n",
    "Time to consult the internet!\n",
    "\n",
    "**&#9989; Question 4 [2 points]:** List any/all packages you found that can load FITS files in Python. Which package do you think is the best one to use? If you found more than one package, how did you decide which one to choose?"
   ]
  },
  {
   "cell_type": "markdown",
   "metadata": {},
   "source": [
    "<font size=+3>&#9998;</font> pyFITS module, astropy.io; I will use astropy.io because it seems to be updated regularly"
   ]
  },
  {
   "cell_type": "markdown",
   "metadata": {},
   "source": [
    "**&#9989; Question 5 [2 points]:** Is the package already installed on your computer? If so, how did you determine this?"
   ]
  },
  {
   "cell_type": "markdown",
   "metadata": {},
   "source": [
    "<font size=+3>&#9998;</font> It is installed. pip list shows all modules installed"
   ]
  },
  {
   "cell_type": "code",
   "execution_count": 24,
   "metadata": {},
   "outputs": [
    {
     "name": "stdout",
     "output_type": "stream",
     "text": [
      "Package                            Version\r\n",
      "---------------------------------- -------------------\r\n",
      "alabaster                          0.7.12\r\n",
      "alembic                            1.4.3\r\n",
      "anaconda-client                    1.7.2\r\n",
      "anaconda-navigator                 1.9.7\r\n",
      "anaconda-project                   0.8.3\r\n",
      "appdirs                            1.4.4\r\n",
      "argh                               0.26.2\r\n",
      "argon2-cffi                        20.1.0\r\n",
      "asn1crypto                         1.4.0\r\n",
      "astroid                            2.4.2\r\n",
      "astropy                            4.0.2\r\n",
      "async-generator                    1.10\r\n",
      "atomicwrites                       1.4.0\r\n",
      "attrs                              20.3.0\r\n",
      "autopep8                           1.5.4\r\n",
      "Babel                              2.8.1\r\n",
      "backcall                           0.2.0\r\n",
      "backports.shutil-get-terminal-size 1.0.0\r\n",
      "beautifulsoup4                     4.9.3\r\n",
      "bitarray                           1.6.1\r\n",
      "bkcharts                           0.2\r\n",
      "bleach                             3.2.1\r\n",
      "blinker                            1.4\r\n",
      "bokeh                              2.2.3\r\n",
      "boto                               2.49.0\r\n",
      "Bottleneck                         1.3.2\r\n",
      "branca                             0.4.2\r\n",
      "brotlipy                           0.7.0\r\n",
      "certifi                            2020.11.8\r\n",
      "certipy                            0.1.3\r\n",
      "cffi                               1.14.0\r\n",
      "cftime                             1.2.1\r\n",
      "chardet                            3.0.4\r\n",
      "click                              7.1.2\r\n",
      "cloudpickle                        1.6.0\r\n",
      "clyent                             1.2.2\r\n",
      "cmocean                            2.0\r\n",
      "colorama                           0.4.4\r\n",
      "colorspacious                      1.1.2\r\n",
      "conda                              4.9.2\r\n",
      "conda-build                        3.17.8\r\n",
      "conda-package-handling             1.7.2\r\n",
      "conda-verify                       3.1.1\r\n",
      "contextlib2                        0.6.0.post1\r\n",
      "cryptography                       3.2.1\r\n",
      "cycler                             0.10.0\r\n",
      "Cython                             0.29.21\r\n",
      "cytoolz                            0.11.0\r\n",
      "dask                               2.30.0\r\n",
      "decorator                          4.4.2\r\n",
      "defusedxml                         0.6.0\r\n",
      "diff-match-patch                   20200713\r\n",
      "distributed                        2.30.1\r\n",
      "docutils                           0.16\r\n",
      "entrypoints                        0.3\r\n",
      "environment-kernels                1.1.1\r\n",
      "et-xmlfile                         1.0.1\r\n",
      "fastcache                          1.1.0\r\n",
      "filelock                           3.0.12\r\n",
      "flake8                             3.8.4\r\n",
      "Flask                              1.1.2\r\n",
      "folium                             0.12.1\r\n",
      "fsspec                             0.8.3\r\n",
      "future                             0.18.2\r\n",
      "gevent                             20.9.0\r\n",
      "glob2                              0.7\r\n",
      "gmpy2                              2.0.8\r\n",
      "greenlet                           0.4.17\r\n",
      "h5py                               2.10.0\r\n",
      "HeapDict                           1.0.1\r\n",
      "html5lib                           1.1\r\n",
      "idna                               2.10\r\n",
      "imageio                            2.9.0\r\n",
      "imagesize                          1.2.0\r\n",
      "importlib-metadata                 2.0.0\r\n",
      "iniconfig                          1.1.1\r\n",
      "intervaltree                       3.1.0\r\n",
      "ipykernel                          5.3.4\r\n",
      "ipython                            7.19.0\r\n",
      "ipython-genutils                   0.2.0\r\n",
      "ipywidgets                         7.5.1\r\n",
      "isort                              5.6.4\r\n",
      "itsdangerous                       1.1.0\r\n",
      "jdcal                              1.4.1\r\n",
      "jedi                               0.17.1\r\n",
      "jeepney                            0.5.0\r\n",
      "Jinja2                             2.11.2\r\n",
      "joblib                             0.17.0\r\n",
      "json5                              0.9.5\r\n",
      "jsonschema                         3.2.0\r\n",
      "jupyter                            1.0.0\r\n",
      "jupyter-client                     6.1.7\r\n",
      "jupyter-console                    6.2.0\r\n",
      "jupyter-contrib-core               0.3.3\r\n",
      "jupyter-contrib-nbextensions       0.5.1\r\n",
      "jupyter-core                       4.6.3\r\n",
      "jupyter-highlight-selected-word    0.2.0\r\n",
      "jupyter-latex-envs                 1.4.6\r\n",
      "jupyter-nbextensions-configurator  0.4.1\r\n",
      "jupyterhub                         1.0.0\r\n",
      "jupyterhub-idle-culler             1.0\r\n",
      "jupyterlab                         2.2.6\r\n",
      "jupyterlab-pygments                0.1.2\r\n",
      "jupyterlab-server                  1.2.0\r\n",
      "keyring                            21.4.0\r\n",
      "kiwisolver                         1.3.0\r\n",
      "lazy-object-proxy                  1.4.3\r\n",
      "libarchive-c                       2.9\r\n",
      "llvmlite                           0.34.0\r\n",
      "locket                             0.2.0\r\n",
      "lxml                               4.6.1\r\n",
      "Mako                               1.1.3\r\n",
      "MarkupSafe                         1.1.1\r\n",
      "matplotlib                         3.3.2\r\n",
      "mccabe                             0.6.1\r\n",
      "meshio                             4.2.2\r\n",
      "mistune                            0.8.4\r\n",
      "mkl-fft                            1.2.0\r\n",
      "mkl-random                         1.1.1\r\n",
      "mkl-service                        2.3.0\r\n",
      "mock                               4.0.2\r\n",
      "more-itertools                     8.6.0\r\n",
      "mpmath                             1.1.0\r\n",
      "msgpack                            1.0.0\r\n",
      "multipledispatch                   0.6.0\r\n",
      "navigator-updater                  0.2.1\r\n",
      "nb-conda                           2.2.1\r\n",
      "nb-conda-kernels                   2.3.0\r\n",
      "nbclient                           0.5.1\r\n",
      "nbconvert                          6.0.7\r\n",
      "nbformat                           5.0.8\r\n",
      "nest-asyncio                       1.4.2\r\n",
      "netCDF4                            1.4.2\r\n",
      "networkx                           2.5\r\n",
      "nltk                               3.5\r\n",
      "nose                               1.3.7\r\n",
      "notebook                           6.1.4\r\n",
      "numba                              0.51.2\r\n",
      "numexpr                            2.7.1\r\n",
      "numpy                              1.19.2\r\n",
      "numpydoc                           1.1.0\r\n",
      "oauthlib                           3.1.0\r\n",
      "olefile                            0.46\r\n",
      "openpyxl                           3.0.5\r\n",
      "packaging                          20.4\r\n",
      "pamela                             1.0.0\r\n",
      "pandas                             1.1.3\r\n",
      "pandocfilters                      1.4.3\r\n",
      "parso                              0.7.0\r\n",
      "partd                              1.1.0\r\n",
      "path                               15.0.0\r\n",
      "pathlib2                           2.3.5\r\n",
      "pathtools                          0.1.2\r\n",
      "patsy                              0.5.1\r\n",
      "pep8                               1.7.1\r\n",
      "pexpect                            4.8.0\r\n",
      "pickleshare                        0.7.5\r\n",
      "Pillow                             8.0.1\r\n",
      "pip                                20.2.4\r\n",
      "pkginfo                            1.6.1\r\n",
      "plotly                             4.10.0\r\n",
      "pluggy                             0.13.1\r\n",
      "ply                                3.11\r\n",
      "prettytable                        2.0.0\r\n",
      "prometheus-client                  0.8.0\r\n",
      "prompt-toolkit                     3.0.8\r\n",
      "psutil                             5.7.2\r\n",
      "ptyprocess                         0.6.0\r\n",
      "py                                 1.9.0\r\n",
      "pycodestyle                        2.6.0\r\n",
      "pycosat                            0.6.3\r\n",
      "pycparser                          2.20\r\n",
      "pycrypto                           2.6.1\r\n",
      "pycurl                             7.43.0.6\r\n",
      "pydocstyle                         5.1.1\r\n",
      "pyflakes                           2.2.0\r\n",
      "Pygments                           2.7.2\r\n",
      "PyJWT                              1.7.1\r\n",
      "pylint                             2.6.0\r\n",
      "pyodbc                             4.0.0-unsupported\r\n",
      "pyOpenSSL                          19.1.0\r\n",
      "pyparsing                          2.4.7\r\n",
      "pyrsistent                         0.17.3\r\n",
      "PySocks                            1.7.1\r\n",
      "pytest                             0.0.0\r\n",
      "python-dateutil                    2.8.1\r\n",
      "python-editor                      1.0.4\r\n",
      "python-jsonrpc-server              0.4.0\r\n",
      "python-language-server             0.35.1\r\n",
      "pytz                               2020.1\r\n",
      "pyvista                            0.26.1\r\n",
      "PyWavelets                         1.1.1\r\n",
      "pyxdg                              0.27\r\n",
      "PyYAML                             5.3.1\r\n",
      "pyzmq                              19.0.2\r\n",
      "QDarkStyle                         2.8.1\r\n",
      "QtAwesome                          1.0.1\r\n",
      "qtconsole                          4.7.7\r\n",
      "QtPy                               1.9.0\r\n",
      "regex                              2020.10.15\r\n",
      "requests                           2.24.0\r\n",
      "retrying                           1.3.3\r\n",
      "rope                               0.18.0\r\n",
      "Rtree                              0.9.4\r\n",
      "ruamel-yaml                        0.15.87\r\n",
      "scikit-image                       0.17.2\r\n",
      "scikit-learn                       0.23.2\r\n",
      "scipy                              1.5.2\r\n",
      "scooby                             0.5.6\r\n",
      "seaborn                            0.11.0\r\n",
      "SecretStorage                      3.1.2\r\n",
      "Send2Trash                         1.5.0\r\n",
      "setuptools                         50.3.1.post20201107\r\n",
      "simplegeneric                      0.8.1\r\n",
      "singledispatch                     3.4.0.3\r\n",
      "six                                1.15.0\r\n",
      "snowballstemmer                    2.0.0\r\n",
      "sortedcollections                  1.2.1\r\n",
      "sortedcontainers                   2.2.2\r\n",
      "soupsieve                          2.0.1\r\n",
      "Sphinx                             3.2.1\r\n",
      "sphinxcontrib-applehelp            1.0.2\r\n",
      "sphinxcontrib-devhelp              1.0.2\r\n",
      "sphinxcontrib-htmlhelp             1.0.3\r\n",
      "sphinxcontrib-jsmath               1.0.1\r\n",
      "sphinxcontrib-qthelp               1.0.3\r\n",
      "sphinxcontrib-serializinghtml      1.1.4\r\n",
      "sphinxcontrib-websupport           1.2.4\r\n",
      "spyder                             4.1.5\r\n",
      "spyder-kernels                     1.9.4\r\n",
      "SQLAlchemy                         1.3.20\r\n",
      "statsmodels                        0.12.0\r\n",
      "sudospawner                        0.5.2\r\n",
      "sympy                              1.6.2\r\n",
      "tables                             3.6.1\r\n",
      "tblib                              1.7.0\r\n",
      "terminado                          0.9.1\r\n",
      "testpath                           0.4.4\r\n",
      "threadpoolctl                      2.1.0\r\n",
      "tifffile                           2020.10.1\r\n",
      "toml                               0.10.1\r\n",
      "toolz                              0.11.1\r\n",
      "tornado                            6.0.4\r\n",
      "tqdm                               4.51.0\r\n",
      "traitlets                          5.0.5\r\n",
      "typed-ast                          1.4.1\r\n",
      "typing-extensions                  3.7.4.3\r\n",
      "ujson                              4.0.1\r\n",
      "unicodecsv                         0.14.1\r\n",
      "urllib3                            1.25.11\r\n",
      "viscm                              0.9\r\n",
      "vtk                                8.2.0\r\n",
      "watchdog                           0.10.3\r\n",
      "wcwidth                            0.2.5\r\n",
      "webencodings                       0.5.1\r\n",
      "Werkzeug                           1.0.1\r\n",
      "wheel                              0.35.1\r\n",
      "widgetsnbextension                 3.5.1\r\n",
      "wrapt                              1.11.2\r\n",
      "wurlitzer                          2.0.1\r\n",
      "xlrd                               1.2.0\r\n",
      "XlsxWriter                         1.3.7\r\n",
      "xlwt                               1.3.0\r\n",
      "yapf                               0.30.0\r\n",
      "zict                               2.0.0\r\n",
      "zipp                               3.4.0\r\n",
      "zope.event                         4.5.0\r\n",
      "zope.interface                     5.1.2\r\n"
     ]
    }
   ],
   "source": [
    "!pip list"
   ]
  },
  {
   "cell_type": "markdown",
   "metadata": {},
   "source": [
    "**&#9989; Question 6 [2 points]:** If the package isn't already installed, put the command to install the package in the cell below. If the package *is* already installed, what command would you have used to install the package?"
   ]
  },
  {
   "cell_type": "markdown",
   "metadata": {},
   "source": [
    "<font size=+3>&#9998;</font> !pip install --user 'module' "
   ]
  },
  {
   "cell_type": "markdown",
   "metadata": {},
   "source": [
    "#### Loading the data\n",
    "\n",
    "The data that you're working with are actually images of the Orion Nebula (M42) and come from the [European South Observatory's Digital Sky Survey](http://archive.eso.org/dss/dss) and can be publicly downloaded [here](https://www.spacetelescope.org/projects/fits_liberator/m42data/). The \"red\" image is from the \"$R$\" filter from the telescope, which views the sky at red wavelengths and the \"ir\" image is from \"$I$\" filter, which views the telescope at infrared wavelengths. If you're not familiar with the term \"infrared,\" it literally translates to \"below red\" and indicates that the wavelength of the light is longer then the red part of the [electromagnetic spectrum](https://en.wikipedia.org/wiki/Electromagnetic_spectrum).\n",
    "\n",
    "**&#9989; Question 7 [6 points]:** Now that you have a Python package that can open FITS files, **read both files into your notebook and print the mean, standard deviation, maximum, and minimum for each file**.\n",
    "\n",
    "**Note:** If you can't figure out how to load the data file, use the following to lines of code as a replacement for the real data (you will lose the points for this question, but you'll be able to continue on in the assignment):\n",
    "\n",
    "``` python\n",
    "image_data_red = np.random.uniform(0,10000,size=(1000,1000))\n",
    "image_data_ir = np.random.exponential(600,size=(1000,1000))\n",
    "```"
   ]
  },
  {
   "cell_type": "code",
   "execution_count": 25,
   "metadata": {},
   "outputs": [
    {
     "name": "stdout",
     "output_type": "stream",
     "text": [
      "14795.749599452456 4558.575366278035 22512 1845\n",
      "7709.482913447791 4964.552130811538 27947 1555\n"
     ]
    }
   ],
   "source": [
    "# Put your code here\n",
    "from astropy.io import fits\n",
    "import numpy as np \n",
    "import pandas as pd\n",
    "red_data = fits.open('m42_40min_red.fits')\n",
    "ir_data = fits.open('m42_40min_ir.fits')\n",
    "\n",
    "red_array = red_data[0].data\n",
    "ir_array = ir_data[0].data\n",
    "\n",
    "print(red_array.mean(), red_array.std(), red_array.max(), red_array.min())\n",
    "print(ir_array.mean(), ir_array.std(), ir_array.max(), ir_array.min())"
   ]
  },
  {
   "cell_type": "markdown",
   "metadata": {},
   "source": [
    "---\n",
    "### &#128721; STOP\n",
    "**Pause to commit your changes to your Git repository!**\n",
    "\n",
    "Take a moment to save your notebook, commit the changes to your Git repository using the commit message \"Committing part 3.2\", and push the changes to GitHub.\n",
    "\n",
    "---"
   ]
  },
  {
   "cell_type": "markdown",
   "metadata": {},
   "source": [
    "### 3.3: Working with the the data (22 points)\n",
    "\n",
    "Now that you've got the FITS files loaded into Python, it's time to start exploring the data a bit. You've already computed some simple statistics, but now you should take it a step further and try to understand the distribution of pixel values and plot the images.\n",
    "\n",
    "**&#9989; Question 8 [6 points]:** Using **NumPy** compute the histogram for both the $R$ filter image and $I$ filter image using **50 bins**. You can assume that the values in the images represent **pixel brightness** (you do not need to worry about the units for this values)\n",
    "\n",
    "*Important note*: When reviewing the documentation for NumPy's histogram function, make sure you know what the properties are of the variables that are returned from the functions!\n",
    "\n",
    "Once you have your histogram values, **make a plot that contains the histograms for both images showing the pixel count as a function of pixel brightness**. Use the `step()` function in matplotlib to make your plot so that it looks like a more traditional histogram. **Make sure you include appropriate labels on your plot!**"
   ]
  },
  {
   "cell_type": "code",
   "execution_count": 26,
   "metadata": {},
   "outputs": [
    {
     "data": {
      "text/plain": [
       "Text(0.5, 1.0, 'Pixel Count as a Function of Pixel Brightness')"
      ]
     },
     "execution_count": 26,
     "metadata": {},
     "output_type": "execute_result"
    },
    {
     "data": {
      "image/png": "[encoded data removed]",
      "text/plain": [
       "<Figure size 432x288 with 1 Axes>"
      ]
     },
     "metadata": {
      "needs_background": "light"
     },
     "output_type": "display_data"
    }
   ],
   "source": [
    "# Put your code here\n",
    "import matplotlib.pyplot as plt \n",
    "%matplotlib inline \n",
    "\n",
    "np.histogram(red_array, bins=50)\n",
    "plt.step(red_array[0], red_array[1])\n",
    "\n",
    "np.histogram(ir_array, bins=50)\n",
    "plt.step(ir_array[0], ir_array[1])\n",
    "plt.xlabel('Pixel brightness')\n",
    "plt.ylabel('Pixel count')\n",
    "plt.title('Pixel Count as a Function of Pixel Brightness')"
   ]
  },
  {
   "cell_type": "markdown",
   "metadata": {},
   "source": [
    "**&#9989; Question 9 [2 points]:** In looking at the histograms, what can you say about the properties of the $R$ filter image and the $I$ filter images? Which one is dominated by a large number of dark pixels? Which one has a nearly uniform, non-neglible pixel count for a wide range of pixel brightness?"
   ]
  },
  {
   "cell_type": "markdown",
   "metadata": {},
   "source": [
    "<font size=+3>&#9998;</font> R filter has higher pixel count at higher pixel brightness compared to the I filter, whereas I filter is dominated by large number of dark pixels. The R filter has a uniform wide range of pixel brightness."
   ]
  },
  {
   "cell_type": "markdown",
   "metadata": {},
   "source": [
    "Now that you have a bit of understanding about the the properties of the images are, let's see if the images themselves match your expectations.\n",
    "\n",
    "**&#9989; Question 10 [6 points]:** **Make two separate figures,** one that includes a plot of the $R$ filter and one that includes a plot of the $I$ filter. **Choose a colormap other than the default, but use the same colormap for each image**.\n",
    "\n",
    "**Make sure you include a colorbar** on the figures so that you can tell what the pixel values are and **ensure that the (0,0) point is the the lower left corner of the image so that the orientation matches that of this image:**\n",
    "<div align=\"center\"><img src=\"https://www.noao.edu/image_gallery/images/d3/02677.jpg\" width=200px alt=\"Image credit: www.noao.edu\"></div>"
   ]
  },
  {
   "cell_type": "code",
   "execution_count": 35,
   "metadata": {},
   "outputs": [
    {
     "ename": "TypeError",
     "evalue": "'module' object is not callable",
     "output_type": "error",
     "traceback": [
      "\u001b[0;31m---------------------------------------------------------------------------\u001b[0m",
      "\u001b[0;31mTypeError\u001b[0m                                 Traceback (most recent call last)",
      "\u001b[0;32m<ipython-input-35-547ab921ef67>\u001b[0m in \u001b[0;36m<module>\u001b[0;34m\u001b[0m\n\u001b[1;32m      3\u001b[0m \u001b[0;34m\u001b[0m\u001b[0m\n\u001b[1;32m      4\u001b[0m \u001b[0mplt\u001b[0m\u001b[0;34m.\u001b[0m\u001b[0mscatter\u001b[0m\u001b[0;34m(\u001b[0m\u001b[0mred_array\u001b[0m\u001b[0;34m[\u001b[0m\u001b[0;36m0\u001b[0m\u001b[0;34m]\u001b[0m\u001b[0;34m,\u001b[0m \u001b[0mred_array\u001b[0m\u001b[0;34m[\u001b[0m\u001b[0;36m1\u001b[0m\u001b[0;34m]\u001b[0m\u001b[0;34m)\u001b[0m\u001b[0;34m\u001b[0m\u001b[0;34m\u001b[0m\u001b[0m\n\u001b[0;32m----> 5\u001b[0;31m \u001b[0mcm\u001b[0m\u001b[0;34m(\u001b[0m\u001b[0;34m'Sequential'\u001b[0m\u001b[0;34m,\u001b[0m \u001b[0;34m'Purples'\u001b[0m\u001b[0;34m)\u001b[0m\u001b[0;34m\u001b[0m\u001b[0;34m\u001b[0m\u001b[0m\n\u001b[0m",
      "\u001b[0;31mTypeError\u001b[0m: 'module' object is not callable"
     ]
    },
    {
     "data": {
      "image/png": "[encoded data removed]",
      "text/plain": [
       "<Figure size 432x288 with 1 Axes>"
      ]
     },
     "metadata": {
      "needs_background": "light"
     },
     "output_type": "display_data"
    }
   ],
   "source": [
    "# Put your code here\n",
    "from matplotlib import cm \n",
    "\n",
    "plt.scatter(red_array[0], red_array[1])\n",
    "cm('Sequential', 'Purples')"
   ]
  },
  {
   "cell_type": "markdown",
   "metadata": {},
   "source": [
    "**&#9989; Question 11 [2 points]:** Do the resulting images make sense in the context of your histogram plot? Explain why or why not."
   ]
  },
  {
   "cell_type": "markdown",
   "metadata": {},
   "source": [
    "<font size=+3>&#9998;</font> Do This - Erase the contents of this cell and replace it with your answer to the above question!  (double-click on this text to edit this cell, and hit shift+enter to save the text)"
   ]
  },
  {
   "cell_type": "markdown",
   "metadata": {},
   "source": [
    "Sometimes when astronomers are trying to understand the properties of an object they are are looking at they, they create \"[color-color diagrams](https://en.wikipedia.org/wiki/Color%E2%80%93color_diagram)\". These diagrams define \"colors\" by computing the difference between two different image filters. You don't need to understand the exact details behind color-color diagrams for this part of the assignment, but you're going to use the data you have available to do something similar!\n",
    "\n",
    "**&#9989; Question 12 [4 points]:** Write a function that takes in two different image arrays, plots the \"difference image,\" and returns the difference image array. **Test out your function so that you produce an \"$R$-$I$\" image (you want to give the function the red image and the IR image such that the image that is returned is \"red\" - \"IR\" but your function should work for _any two images_.**"
   ]
  },
  {
   "cell_type": "code",
   "execution_count": 36,
   "metadata": {},
   "outputs": [],
   "source": [
    "# Put your code here\n"
   ]
  },
  {
   "cell_type": "markdown",
   "metadata": {},
   "source": [
    "**&#9989; Question 13 [2 points]:** What can you learn from your difference image? Which part(s) of the image is(are) brighter in the $I$ filter than the the $R$ filter?"
   ]
  },
  {
   "cell_type": "markdown",
   "metadata": {},
   "source": [
    "<font size=+3>&#9998;</font> the red filter pi"
   ]
  },
  {
   "cell_type": "markdown",
   "metadata": {},
   "source": [
    "---\n",
    "### &#128721; STOP\n",
    "**Pause to commit your changes to your Git repository!**\n",
    "\n",
    "Take a moment to save your notebook, commit the changes to your Git repository using the commit message \"Committing part 3.3\", and push the changes to GitHub.\n",
    "\n",
    "---"
   ]
  },
  {
   "cell_type": "markdown",
   "metadata": {},
   "source": [
    "### 3.4: Using a specialized package for visualization of data (6 points)\n",
    "\n",
    "Now that you've spent some time exploring the nature of these images, we're going to try to use some of the tools that are unique to the package you've been using to read the FITS files into your notebook. In particular, we're going to try to use the header information associated with the FITS files to make a plot that uses the \"World Coordinate System\" so that instead of just plotting the image dimensions in terms of pixel position, we'll have a plot where \"Right Ascension\" is on the $x$-axis and \"Declination\" is on the $y$-axis. These coordinates are what astronomers use to navigate the sky.\n",
    "\n",
    "**&#9989; Question 14 [6 points]:** Using the documentation page for the new Python package you've been using, or any other examples you can find on the internet, **make a plot using the World Coordinate System** for the $I$ filter image. The package will use the information from the header of the FITS file to define a set of axes that corresponding to the physical coordinates of the image. If all goes well, you should end up with something that looks like this:\n",
    "\n",
    "<div align=\"center\"><img src=\"https://i.ibb.co/k0sCXcf/m42-ir-RADEC.png\" alt=\"m42-ir-RADEC\" border=\"0\"></div>\n",
    "\n",
    "**Important note:** You made end up getting some WARNINGs in your notebook when you do this step, but you should be able to safely ignore those. However, if you run into actual errors, you need to troubleshoot those!"
   ]
  },
  {
   "cell_type": "code",
   "execution_count": null,
   "metadata": {},
   "outputs": [],
   "source": [
    "# Put your code here\n"
   ]
  },
  {
   "cell_type": "markdown",
   "metadata": {},
   "source": [
    "---\n",
    "### &#128721; STOP\n",
    "**Pause to commit your changes to your Git repository!**\n",
    "\n",
    "Take a moment to save your notebook, commit the changes to your Git repository using the commit message \"Committing part 3.4\", and push the changes to GitHub.\n",
    "\n",
    "---"
   ]
  },
  {
   "cell_type": "markdown",
   "metadata": {},
   "source": [
    "### 3.5: Writing Python functions for doing image manipulation and processing (14 points)\n",
    "\n",
    "Now that you've been able to read, manipulate, and display FITS file images, we're going to work on building some Python functions to interact with these files and does some very simple image processing.\n",
    "\n",
    "**&#9989; Question 15 [10 points]:** In order to simplify the process of \"observing\" the nebula that's we've been looking at thus far, you're going to build the following functions:\n",
    "\n",
    "1. A `load_images` function that takes two image filenames as inputs, loads the  corresponding FITS files, and returns a **dictionary** where the keys in the dictionary are the filenames and the entries in the dictionary are the corresponding image arrays.\n",
    "2. A `calc_stats` function that takes a dictionary of image information (like the one returned by your `load_images` function) as input and **prints the mean and standard deviation of all images in the dictionary**. Make sure that the print statements indicate which image the values correspond to by using the filenames that are stored in the dictionary.\n",
    "3. A `make_composite` function that takes your two filenames and your dictionary of image information as input and creates a 3D NumPy array that represents a 2D image and it's corresponding \"R\" \"G\" and \"B\" values. The Red (R), Green (G), and Blue (B) channels should be defined in the following ways:\n",
    "    1. The red channel should be defined as\n",
    "    $$ 1.5 \\times \\frac{\\mathrm{I~filter~image~array}}{\\mathrm{The~maximum~of~the~R~filter~image~array}}$$\n",
    "    2. The green channel should be based on the average pixels values, speficially defined as\n",
    "    $$ \\frac{\\mathrm{(I~filter~image~array + R~filter~image~array)/2}}{\\mathrm{The~maximum~of~the~R~filter~image~array}}$$\n",
    "    3. The blue channel should be defined as\n",
    "    $$ \\frac{\\mathrm{R~filter~image~array}}{\\mathrm{The~maximum~of~the~R~filter~image~array}}$$\n",
    "    When this function is called it should **display the \"false color\" image you've created by using `plt.imshow()`** \n",
    "    \n",
    "**A starter function and the code for creating the red channel has been provided for you for the `make_composite` function!**\n",
    "    \n",
    "For the `make_composite` function, you may run into issues with some of your image data values not being of the correct type to do the some of math necessary to make the composite image, so you may need to convert some of the values to the appropriate type. Also, make sure you understand what the provided code is doing, especially when it comes to \"clipping\" the RGB values!"
   ]
  },
  {
   "cell_type": "code",
   "execution_count": null,
   "metadata": {},
   "outputs": [],
   "source": [
    "# Write the three functions described above.\n",
    "\n",
    "# Here is a starting point for the \"make_composite\" function\n",
    "def make_composite(f1, f2, im_dict):\n",
    "    '''\n",
    "    This function takes in the following:\n",
    "    f1 : file name for the \"R\" filter image\n",
    "    f2 : file name for the \"I\" filter image\n",
    "    im_dict : a dictionary that contains the image arrays as entries that match the file names\n",
    "    '''\n",
    "    # Define the array for storing RGB values\n",
    "    rgb = np.zeros((im_dict[f1].shape[0],im_dict[f1].shape[1],3))\n",
    "    \n",
    "    # Define a normalization factor for our denominator using the R filter image\n",
    "    norm_factor = im_dict[f1].astype(\"float\").max()\n",
    "    \n",
    "    # Compute the red channel values and then clip them to ensure nothing is > 1.0\n",
    "    rgb[:,:,0] = (im_dict[f2].astype(\"float\")/norm_factor) * 1.5\n",
    "    rgb[:,:,0][rgb[:,:,0] > 1.0] = 1.0\n",
    "\n",
    "        "
   ]
  },
  {
   "cell_type": "markdown",
   "metadata": {},
   "source": [
    "**&#9989; Question 16 [4 points]:** Now that you've defined your class methods, you're going to put them to use. In the following cell:\n",
    "1. Load the images using your `load_images()` function.\n",
    "2. Compute the basic image statistics by calling the `calc_stats` function.\n",
    "3. Create a false color image using the `make_composite` function.\n",
    "    * If all goes well, you should end up with a composite image that looks something like this:\n",
    "    <div align=\"center\"><img src=\"https://i.ibb.co/X2mK6qN/m42-falsecolor-final.png\" alt=\"m42-falsecolor-final\" border=\"0\"></div>\n",
    "\n",
    "**Important note:** It is not required that your final composite image has the Right Ascension and Declination coordinates, but if you figured out how to do this in the previous section, I encourage you to include it!\n",
    "\n",
    "**Another important note**: If you never managed to get the FITS file data loaded in, you can use the fake data image arrays from previously:\n",
    "\n",
    "``` python\n",
    "image_data_red = np.random.uniform(0,10000,size=(1000,1000))\n",
    "image_data_ir = np.random.exponential(600,size=(1000,1000))\n",
    "```"
   ]
  },
  {
   "cell_type": "code",
   "execution_count": null,
   "metadata": {},
   "outputs": [],
   "source": [
    "# Put your code here\n"
   ]
  },
  {
   "cell_type": "markdown",
   "metadata": {},
   "source": [
    "---\n",
    "### &#128721; STOP\n",
    "**Pause to commit your changes to your Git repository!**\n",
    "\n",
    "Take a moment to save your notebook, commit the changes to your Git repository using the commit message \"Committing part 3.5\", and push the changes to GitHub.\n",
    "\n",
    "---"
   ]
  },
  {
   "cell_type": "markdown",
   "metadata": {},
   "source": [
    "---\n",
    "## Assignment wrap-up\n",
    "\n",
    "Please fill out the form that appears when you run the code below.  **You must completely fill this out in order to receive credit for the assignment!**"
   ]
  },
  {
   "cell_type": "code",
   "execution_count": null,
   "metadata": {},
   "outputs": [],
   "source": [
    "from IPython.display import HTML\n",
    "HTML(\n",
    "\"\"\"\n",
    "<iframe \n",
    "\tsrc=\"https://forms.office.com/Pages/ResponsePage.aspx?id=MHEXIi9k2UGSEXQjetVofddd5T-Pwn1DlT6_yoCyuCFUMVlDR0FZWllFS0NEUUc3V1NZVEZUUjRPWC4u\" \n",
    "\twidth=\"800px\" \n",
    "\theight=\"600px\" \n",
    "\tframeborder=\"0\" \n",
    "\tmarginheight=\"0\" \n",
    "\tmarginwidth=\"0\">\n",
    "\tLoading...\n",
    "</iframe>\n",
    "\"\"\"\n",
    ")"
   ]
  },
  {
   "cell_type": "markdown",
   "metadata": {},
   "source": [
    "### Congratulations, you're done!\n",
    "\n",
    "Submit this assignment by uploading it to the course Desire2Learn web page.  Go to the \"Homework Assignments\" folder, find the dropbox link for Homework #1, and upload it there."
   ]
  },
  {
   "cell_type": "markdown",
   "metadata": {},
   "source": [
    "&#169; Copyright 2020,  Department of Computational Mathematics, Science and Engineering at Michigan State University"
   ]
  }
 ],
 "metadata": {
  "anaconda-cloud": {},
  "kernelspec": {
   "display_name": "Python 3",
   "language": "python",
   "name": "python3"
  },
  "language_info": {
   "codemirror_mode": {
    "name": "ipython",
    "version": 3
   },
   "file_extension": ".py",
   "mimetype": "text/x-python",
   "name": "python",
   "nbconvert_exporter": "python",
   "pygments_lexer": "ipython3",
   "version": "3.7.3"
  }
 },
 "nbformat": 4,
 "nbformat_minor": 4
}
